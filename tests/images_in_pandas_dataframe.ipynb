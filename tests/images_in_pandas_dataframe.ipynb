{
 "cells": [
  {
   "attachments": {},
   "cell_type": "markdown",
   "metadata": {},
   "source": [
    "# Displaying images in pandas DataFrame"
   ]
  },
  {
   "attachments": {},
   "cell_type": "markdown",
   "metadata": {},
   "source": [
    "Resource: [Kaggle - Displaying inline images in pandas DataFrame](https://www.kaggle.com/code/stassl/displaying-inline-images-in-pandas-dataframe/notebook)."
   ]
  },
  {
   "cell_type": "code",
   "execution_count": 151,
   "metadata": {},
   "outputs": [],
   "source": [
    "import os\n",
    "import sys\n",
    "import glob\n",
    "import random\n",
    "import base64\n",
    "import pandas as pd\n",
    "\n",
    "from PIL import Image\n",
    "from io import BytesIO\n",
    "from IPython.display import HTML\n",
    "\n",
    "import xlsxwriter\n",
    "import openpyxl"
   ]
  },
  {
   "cell_type": "code",
   "execution_count": 152,
   "metadata": {},
   "outputs": [
    {
     "name": "stderr",
     "output_type": "stream",
     "text": [
      "/var/folders/75/qy6j96r558l_5q_3hmqzsn4r0000gn/T/ipykernel_64087/1694978098.py:1: FutureWarning: Passing a negative integer is deprecated in version 1.0 and will not be supported in future version. Instead, use None to not limit the column width.\n",
      "  pd.set_option('display.max_colwidth', -1)\n"
     ]
    }
   ],
   "source": [
    "pd.set_option('display.max_colwidth', -1)\n",
    "\n",
    "def get_thumbnail(path):\n",
    "    i = Image.open(path)\n",
    "    i.thumbnail((150, 150), Image.LANCZOS)\n",
    "    return i\n",
    "\n",
    "def image_base64(im):\n",
    "    if isinstance(im, str):\n",
    "        im = get_thumbnail(im)\n",
    "    with BytesIO() as buffer:\n",
    "        im.save(buffer, 'jpeg')\n",
    "        return base64.b64encode(buffer.getvalue()).decode()\n",
    "\n",
    "def image_formatter(im):\n",
    "    return f'<img src=\"data:image/jpeg;base64,{image_base64(im)}\">'"
   ]
  },
  {
   "attachments": {},
   "cell_type": "markdown",
   "metadata": {},
   "source": [
    "Setting current working directory:"
   ]
  },
  {
   "cell_type": "code",
   "execution_count": 153,
   "metadata": {},
   "outputs": [
    {
     "name": "stdout",
     "output_type": "stream",
     "text": [
      "project_path: /Users/anthony/MEGA/DOCUMENTS/Programmation/Python/MyPythonProjects/ReadVCF/tests\n",
      "script_path: /Users/anthony/MEGA/DOCUMENTS/Programmation/Python/MyPythonProjects/ReadVCF/tests\n"
     ]
    }
   ],
   "source": [
    "# Getting the path leading to the current working directory\n",
    "project_path = os.getcwd()\n",
    "print(f\"project_path: {project_path}\")  # printing \"project_path\"\n",
    "# Getting the path leading to the currently executing script\n",
    "script_path = sys.path[0]\n",
    "print(f\"script_path: {script_path}\")    # printing \"script_path\"\n",
    "# os.chdir(project_path)                # setting the current working directory based on the path leading to the current working directory\n",
    "# setting the current working directory based on the path leading to the\n",
    "# currently executing script\n",
    "os.chdir(script_path)"
   ]
  },
  {
   "cell_type": "code",
   "execution_count": 154,
   "metadata": {},
   "outputs": [
    {
     "data": {
      "text/html": [
       "<div>\n",
       "<style scoped>\n",
       "    .dataframe tbody tr th:only-of-type {\n",
       "        vertical-align: middle;\n",
       "    }\n",
       "\n",
       "    .dataframe tbody tr th {\n",
       "        vertical-align: top;\n",
       "    }\n",
       "\n",
       "    .dataframe thead th {\n",
       "        text-align: right;\n",
       "    }\n",
       "</style>\n",
       "<table border=\"1\" class=\"dataframe\">\n",
       "  <thead>\n",
       "    <tr style=\"text-align: right;\">\n",
       "      <th></th>\n",
       "      <th>id</th>\n",
       "      <th>breed</th>\n",
       "    </tr>\n",
       "  </thead>\n",
       "  <tbody>\n",
       "    <tr>\n",
       "      <th>0</th>\n",
       "      <td>5f2fa3630f3c8bf8fef08dc8e8f3c818</td>\n",
       "      <td>beagle</td>\n",
       "    </tr>\n",
       "    <tr>\n",
       "      <th>1</th>\n",
       "      <td>784874c8509f23230c93f1c6909e8945</td>\n",
       "      <td>bull_mastiff</td>\n",
       "    </tr>\n",
       "    <tr>\n",
       "      <th>2</th>\n",
       "      <td>75f21d23f43b194674f2016f1ce6b153</td>\n",
       "      <td>groenendael</td>\n",
       "    </tr>\n",
       "    <tr>\n",
       "      <th>3</th>\n",
       "      <td>13932827f30cb00d0cb4c40443c788f4</td>\n",
       "      <td>blenheim_spaniel</td>\n",
       "    </tr>\n",
       "    <tr>\n",
       "      <th>4</th>\n",
       "      <td>21a2b151100ddcf57358fa0442aec8b3</td>\n",
       "      <td>giant_schnauzer</td>\n",
       "    </tr>\n",
       "  </tbody>\n",
       "</table>\n",
       "</div>"
      ],
      "text/plain": [
       "                                 id             breed\n",
       "0  5f2fa3630f3c8bf8fef08dc8e8f3c818  beagle          \n",
       "1  784874c8509f23230c93f1c6909e8945  bull_mastiff    \n",
       "2  75f21d23f43b194674f2016f1ce6b153  groenendael     \n",
       "3  13932827f30cb00d0cb4c40443c788f4  blenheim_spaniel\n",
       "4  21a2b151100ddcf57358fa0442aec8b3  giant_schnauzer "
      ]
     },
     "execution_count": 154,
     "metadata": {},
     "output_type": "execute_result"
    }
   ],
   "source": [
    "id_list = ['5f2fa3630f3c8bf8fef08dc8e8f3c818', '784874c8509f23230c93f1c6909e8945', '75f21d23f43b194674f2016f1ce6b153', '13932827f30cb00d0cb4c40443c788f4', '21a2b151100ddcf57358fa0442aec8b3']\n",
    "breed_list = ['beagle', 'bull_mastiff', 'groenendael', 'blenheim_spaniel', 'giant_schnauzer']\n",
    "# Dictionary of lists \n",
    "dogs_dict = {'id': id_list, 'breed': breed_list}\n",
    "dogs_df = pd.DataFrame(dogs_dict)\n",
    "dogs_df"
   ]
  },
  {
   "cell_type": "code",
   "execution_count": 155,
   "metadata": {},
   "outputs": [
    {
     "data": {
      "text/plain": [
       "Index(['id', 'breed'], dtype='object')"
      ]
     },
     "execution_count": 155,
     "metadata": {},
     "output_type": "execute_result"
    }
   ],
   "source": [
    "dogs_df.columns"
   ]
  },
  {
   "cell_type": "code",
   "execution_count": 156,
   "metadata": {},
   "outputs": [
    {
     "data": {
      "text/plain": [
       "0    /Users/anthony/MEGA/DOCUMENTS/Programmation/Python/MyPythonProjects/ReadVCF/tests/dog-breed/5f2fa3630f3c8bf8fef08dc8e8f3c818.jpg\n",
       "1    /Users/anthony/MEGA/DOCUMENTS/Programmation/Python/MyPythonProjects/ReadVCF/tests/dog-breed/784874c8509f23230c93f1c6909e8945.jpg\n",
       "2    /Users/anthony/MEGA/DOCUMENTS/Programmation/Python/MyPythonProjects/ReadVCF/tests/dog-breed/75f21d23f43b194674f2016f1ce6b153.jpg\n",
       "3    /Users/anthony/MEGA/DOCUMENTS/Programmation/Python/MyPythonProjects/ReadVCF/tests/dog-breed/13932827f30cb00d0cb4c40443c788f4.jpg\n",
       "4    /Users/anthony/MEGA/DOCUMENTS/Programmation/Python/MyPythonProjects/ReadVCF/tests/dog-breed/21a2b151100ddcf57358fa0442aec8b3.jpg\n",
       "Name: file, dtype: object"
      ]
     },
     "execution_count": 156,
     "metadata": {},
     "output_type": "execute_result"
    }
   ],
   "source": [
    "dogs_df['file'] = dogs_df.id.map(lambda id: f'{script_path}/dog-breed/{id}.jpg')\n",
    "dogs_df['file']"
   ]
  },
  {
   "cell_type": "code",
   "execution_count": 157,
   "metadata": {},
   "outputs": [
    {
     "data": {
      "text/plain": [
       "Index(['id', 'breed', 'file'], dtype='object')"
      ]
     },
     "execution_count": 157,
     "metadata": {},
     "output_type": "execute_result"
    }
   ],
   "source": [
    "dogs_df.columns"
   ]
  },
  {
   "cell_type": "code",
   "execution_count": 158,
   "metadata": {},
   "outputs": [
    {
     "data": {
      "text/html": [
       "<div>\n",
       "<style scoped>\n",
       "    .dataframe tbody tr th:only-of-type {\n",
       "        vertical-align: middle;\n",
       "    }\n",
       "\n",
       "    .dataframe tbody tr th {\n",
       "        vertical-align: top;\n",
       "    }\n",
       "\n",
       "    .dataframe thead th {\n",
       "        text-align: right;\n",
       "    }\n",
       "</style>\n",
       "<table border=\"1\" class=\"dataframe\">\n",
       "  <thead>\n",
       "    <tr style=\"text-align: right;\">\n",
       "      <th></th>\n",
       "      <th>id</th>\n",
       "      <th>breed</th>\n",
       "      <th>file</th>\n",
       "      <th>image</th>\n",
       "    </tr>\n",
       "  </thead>\n",
       "  <tbody>\n",
       "    <tr>\n",
       "      <th>0</th>\n",
       "      <td>5f2fa3630f3c8bf8fef08dc8e8f3c818</td>\n",
       "      <td>beagle</td>\n",
       "      <td>/Users/anthony/MEGA/DOCUMENTS/Programmation/Python/MyPythonProjects/ReadVCF/tests/dog-breed/5f2fa3630f3c8bf8fef08dc8e8f3c818.jpg</td>\n",
       "      <td>&lt;PIL.JpegImagePlugin.JpegImageFile image mode=RGB size=150x113 at 0x118CC8460&gt;</td>\n",
       "    </tr>\n",
       "    <tr>\n",
       "      <th>1</th>\n",
       "      <td>784874c8509f23230c93f1c6909e8945</td>\n",
       "      <td>bull_mastiff</td>\n",
       "      <td>/Users/anthony/MEGA/DOCUMENTS/Programmation/Python/MyPythonProjects/ReadVCF/tests/dog-breed/784874c8509f23230c93f1c6909e8945.jpg</td>\n",
       "      <td>&lt;PIL.JpegImagePlugin.JpegImageFile image mode=RGB size=150x113 at 0x118CC8640&gt;</td>\n",
       "    </tr>\n",
       "    <tr>\n",
       "      <th>2</th>\n",
       "      <td>75f21d23f43b194674f2016f1ce6b153</td>\n",
       "      <td>groenendael</td>\n",
       "      <td>/Users/anthony/MEGA/DOCUMENTS/Programmation/Python/MyPythonProjects/ReadVCF/tests/dog-breed/75f21d23f43b194674f2016f1ce6b153.jpg</td>\n",
       "      <td>&lt;PIL.JpegImagePlugin.JpegImageFile image mode=RGB size=112x150 at 0x118CC8430&gt;</td>\n",
       "    </tr>\n",
       "    <tr>\n",
       "      <th>3</th>\n",
       "      <td>13932827f30cb00d0cb4c40443c788f4</td>\n",
       "      <td>blenheim_spaniel</td>\n",
       "      <td>/Users/anthony/MEGA/DOCUMENTS/Programmation/Python/MyPythonProjects/ReadVCF/tests/dog-breed/13932827f30cb00d0cb4c40443c788f4.jpg</td>\n",
       "      <td>&lt;PIL.JpegImagePlugin.JpegImageFile image mode=RGB size=150x101 at 0x118CC83D0&gt;</td>\n",
       "    </tr>\n",
       "    <tr>\n",
       "      <th>4</th>\n",
       "      <td>21a2b151100ddcf57358fa0442aec8b3</td>\n",
       "      <td>giant_schnauzer</td>\n",
       "      <td>/Users/anthony/MEGA/DOCUMENTS/Programmation/Python/MyPythonProjects/ReadVCF/tests/dog-breed/21a2b151100ddcf57358fa0442aec8b3.jpg</td>\n",
       "      <td>&lt;PIL.JpegImagePlugin.JpegImageFile image mode=RGB size=150x100 at 0x118CCB3A0&gt;</td>\n",
       "    </tr>\n",
       "  </tbody>\n",
       "</table>\n",
       "</div>"
      ],
      "text/plain": [
       "                                 id             breed  \\\n",
       "0  5f2fa3630f3c8bf8fef08dc8e8f3c818  beagle             \n",
       "1  784874c8509f23230c93f1c6909e8945  bull_mastiff       \n",
       "2  75f21d23f43b194674f2016f1ce6b153  groenendael        \n",
       "3  13932827f30cb00d0cb4c40443c788f4  blenheim_spaniel   \n",
       "4  21a2b151100ddcf57358fa0442aec8b3  giant_schnauzer    \n",
       "\n",
       "                                                                                                                               file  \\\n",
       "0  /Users/anthony/MEGA/DOCUMENTS/Programmation/Python/MyPythonProjects/ReadVCF/tests/dog-breed/5f2fa3630f3c8bf8fef08dc8e8f3c818.jpg   \n",
       "1  /Users/anthony/MEGA/DOCUMENTS/Programmation/Python/MyPythonProjects/ReadVCF/tests/dog-breed/784874c8509f23230c93f1c6909e8945.jpg   \n",
       "2  /Users/anthony/MEGA/DOCUMENTS/Programmation/Python/MyPythonProjects/ReadVCF/tests/dog-breed/75f21d23f43b194674f2016f1ce6b153.jpg   \n",
       "3  /Users/anthony/MEGA/DOCUMENTS/Programmation/Python/MyPythonProjects/ReadVCF/tests/dog-breed/13932827f30cb00d0cb4c40443c788f4.jpg   \n",
       "4  /Users/anthony/MEGA/DOCUMENTS/Programmation/Python/MyPythonProjects/ReadVCF/tests/dog-breed/21a2b151100ddcf57358fa0442aec8b3.jpg   \n",
       "\n",
       "                                                                            image  \n",
       "0  <PIL.JpegImagePlugin.JpegImageFile image mode=RGB size=150x113 at 0x118CC8460>  \n",
       "1  <PIL.JpegImagePlugin.JpegImageFile image mode=RGB size=150x113 at 0x118CC8640>  \n",
       "2  <PIL.JpegImagePlugin.JpegImageFile image mode=RGB size=112x150 at 0x118CC8430>  \n",
       "3  <PIL.JpegImagePlugin.JpegImageFile image mode=RGB size=150x101 at 0x118CC83D0>  \n",
       "4  <PIL.JpegImagePlugin.JpegImageFile image mode=RGB size=150x100 at 0x118CCB3A0>  "
      ]
     },
     "execution_count": 158,
     "metadata": {},
     "output_type": "execute_result"
    }
   ],
   "source": [
    "dogs_df['image'] = dogs_df.file.map(lambda f: get_thumbnail(f))\n",
    "dogs_df"
   ]
  },
  {
   "attachments": {},
   "cell_type": "markdown",
   "metadata": {},
   "source": [
    "Displaying PIL.Image objects embedded in DataFrame:"
   ]
  },
  {
   "cell_type": "code",
   "execution_count": 159,
   "metadata": {},
   "outputs": [
    {
     "data": {
      "text/html": [
       "<table border=\"1\" class=\"dataframe\">\n",
       "  <thead>\n",
       "    <tr style=\"text-align: right;\">\n",
       "      <th></th>\n",
       "      <th>breed</th>\n",
       "      <th>image</th>\n",
       "    </tr>\n",
       "  </thead>\n",
       "  <tbody>\n",
       "    <tr>\n",
       "      <th>0</th>\n",
       "      <td>beagle</td>\n",
       "      <td><img src=\"data:image/jpeg;base64,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\"></td>\n",
       "    </tr>\n",
       "    <tr>\n",
       "      <th>1</th>\n",
       "      <td>bull_mastiff</td>\n",
       "      <td><img src=\"data:image/jpeg;base64,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\"></td>\n",
       "    </tr>\n",
       "    <tr>\n",
       "      <th>2</th>\n",
       "      <td>groenendael</td>\n",
       "      <td><img src=\"data:image/jpeg;base64,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\"></td>\n",
       "    </tr>\n",
       "    <tr>\n",
       "      <th>3</th>\n",
       "      <td>blenheim_spaniel</td>\n",
       "      <td><img src=\"data:image/jpeg;base64,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\"></td>\n",
       "    </tr>\n",
       "    <tr>\n",
       "      <th>4</th>\n",
       "      <td>giant_schnauzer</td>\n",
       "      <td><img src=\"data:image/jpeg;base64,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\"></td>\n",
       "    </tr>\n",
       "  </tbody>\n",
       "</table>"
      ],
      "text/plain": [
       "<IPython.core.display.HTML object>"
      ]
     },
     "execution_count": 159,
     "metadata": {},
     "output_type": "execute_result"
    }
   ],
   "source": [
    "dogs_html = HTML(dogs_df[['breed', 'image']].to_html(formatters={'image': image_formatter}, escape=False))\n",
    "dogs_html"
   ]
  },
  {
   "attachments": {},
   "cell_type": "markdown",
   "metadata": {},
   "source": [
    "Exporting DataFrame to HTML file (cf.: \"[Stack Overflow - Outputing HTML Ipython object to disk](https://stackoverflow.com/questions/41318765/outputing-html-ipython-object-to-disk)\"):"
   ]
  },
  {
   "cell_type": "code",
   "execution_count": 160,
   "metadata": {},
   "outputs": [],
   "source": [
    "dogs_html_data = dogs_html.data\n",
    "with open(f'{script_path}/dogs_html.html', 'w') as f:\n",
    "    f.write(dogs_html_data)"
   ]
  },
  {
   "attachments": {},
   "cell_type": "markdown",
   "metadata": {},
   "source": [
    "Exporting DataFrame to Microsoft Excel file:"
   ]
  },
  {
   "cell_type": "code",
   "execution_count": 161,
   "metadata": {},
   "outputs": [],
   "source": [
    "idx = True\n",
    "dogs_df.to_excel(f'{script_path}/dogs_excel.xlsx', index=idx)"
   ]
  },
  {
   "cell_type": "code",
   "execution_count": 162,
   "metadata": {},
   "outputs": [
    {
     "data": {
      "text/plain": [
       "['id', 'breed', 'file', 'image']"
      ]
     },
     "execution_count": 162,
     "metadata": {},
     "output_type": "execute_result"
    }
   ],
   "source": [
    "column_names = list(dogs_df.columns)\n",
    "column_names"
   ]
  },
  {
   "cell_type": "markdown",
   "metadata": {},
   "source": [
    "Converting decimal to excel column name.\n",
    "\n",
    "Resources:\n",
    "- ~~[Compute decimal to binary](https://levelup.gitconnected.com/computing-binary-numbers-with-python-a6e00be69bea).~~\n",
    "- [GeeksforGeeks - Compute decimal to hexadecimal](https://www.geeksforgeeks.org/python-program-to-convert-decimal-to-hexadecimal/)"
   ]
  },
  {
   "cell_type": "code",
   "execution_count": 163,
   "metadata": {},
   "outputs": [
    {
     "name": "stdout",
     "output_type": "stream",
     "text": [
      "The \"Excel base 26\" form of 1286 is AWL.\n"
     ]
    }
   ],
   "source": [
    "# Conversion table of remainders to\n",
    "# \"Excel base 26\" equivalent\n",
    "conversion_table = {1: 'A', 2: 'B', 3: 'C', 4: 'D', 5: 'E',\n",
    "                    6: 'F', 7: 'G', 8: 'H', 9: 'I', 10: 'J',\n",
    "                    11: 'K', 12: 'L', 13: 'M', 14: 'N', 15: 'O',\n",
    "                    16: 'P', 17: 'Q', 18: 'R', 19: 'S', 20: 'T',\n",
    "                    21: 'U', 22: 'V', 23: 'W', 24: 'X', 25: 'Y',\n",
    "                    26: 'Z'}\n",
    " \n",
    "# Function which converts decimal value\n",
    "# to \"Excel base 26\" value\n",
    "def decimalToExcelBase26(decimal):\n",
    "    excel_base_26 = ''\n",
    "    while(decimal > 0):\n",
    "        remainder = decimal % 26\n",
    "        excel_base_26 = conversion_table[remainder] + excel_base_26\n",
    "        decimal = decimal // 26\n",
    " \n",
    "    return excel_base_26\n",
    "  \n",
    "decimal_number = 1286\n",
    "print(f'The \"Excel base 26\" form of {decimal_number} is {decimalToExcelBase26(decimal_number)}.')"
   ]
  },
  {
   "cell_type": "markdown",
   "metadata": {},
   "source": [
    "Copying function in another variable.\n",
    "\n",
    "Resources:\n",
    "- [Programiz - Python Shallow Copy and Deep Copy - Copy an Object in Python](https://www.programiz.com/python-programming/shallow-deep-copy#:~:text=In%20Python%2C%20we%20use%20%3D%20operator,reference%20to%20new_list%20using%20%3D%20operator.).\n",
    "- [Stack Overflow - Rename a function](https://stackoverflow.com/questions/71638902/rename-a-function):\n",
    "    ```python\n",
    "    bark = print\n",
    "    bark('Hello World')\n",
    "    ```"
   ]
  },
  {
   "cell_type": "code",
   "execution_count": 164,
   "metadata": {},
   "outputs": [],
   "source": [
    "get_column_mapping = decimalToExcelBase26"
   ]
  },
  {
   "cell_type": "code",
   "execution_count": 165,
   "metadata": {},
   "outputs": [
    {
     "name": "stdout",
     "output_type": "stream",
     "text": [
      "The \"Excel base 26\" form of 1286 is AWL.\n"
     ]
    }
   ],
   "source": [
    "print(f'The \"Excel base 26\" form of {decimal_number} is {get_column_mapping(decimal_number)}.')"
   ]
  },
  {
   "cell_type": "markdown",
   "metadata": {},
   "source": [
    "Inserting images into Microsoft Excel worksheet.\n",
    "\n",
    "Resource:\n",
    "- [XlsxWriter - Example: Inserting images into a worksheet](https://xlsxwriter.readthedocs.io/example_images.html)."
   ]
  },
  {
   "cell_type": "code",
   "execution_count": 166,
   "metadata": {},
   "outputs": [
    {
     "data": {
      "text/plain": [
       "5"
      ]
     },
     "execution_count": 166,
     "metadata": {},
     "output_type": "execute_result"
    }
   ],
   "source": [
    "image_col_idx = column_names.index('image')+2\n",
    "image_col_idx"
   ]
  },
  {
   "cell_type": "code",
   "execution_count": 167,
   "metadata": {},
   "outputs": [
    {
     "data": {
      "text/plain": [
       "'E'"
      ]
     },
     "execution_count": 167,
     "metadata": {},
     "output_type": "execute_result"
    }
   ],
   "source": [
    "image_col_idx_excel = get_column_mapping(image_col_idx)\n",
    "image_col_idx_excel"
   ]
  },
  {
   "cell_type": "code",
   "execution_count": 168,
   "metadata": {},
   "outputs": [],
   "source": [
    "from openpyxl.drawing.image import Image\n",
    "\n",
    "# Opening existing workbook\n",
    "workbook = openpyxl.load_workbook(f'{script_path}/dogs_excel.xlsx')\n",
    "# Opening existing worksheet\n",
    "worksheet = workbook['Sheet1']\n",
    "num_sample = len(dogs_df.index)\n",
    "# Inserting images\n",
    "for row in range(num_sample):\n",
    "    img_path = dogs_df.at[row, 'file']\n",
    "    img = Image(img_path)\n",
    "    img.width = 20\n",
    "    img.height = 20\n",
    "    cell_address = image_col_idx_excel+str(row+2)\n",
    "    worksheet[cell_address] = ''  # erasing current cell content\n",
    "    worksheet.add_image(img, cell_address)\n",
    "# Saving workbook\n",
    "workbook.save(f'{script_path}/dogs_excel.xlsx')"
   ]
  },
  {
   "cell_type": "code",
   "execution_count": null,
   "metadata": {},
   "outputs": [],
   "source": []
  }
 ],
 "metadata": {
  "kernelspec": {
   "display_name": "Python 3",
   "language": "python",
   "name": "python3"
  },
  "language_info": {
   "codemirror_mode": {
    "name": "ipython",
    "version": 3
   },
   "file_extension": ".py",
   "mimetype": "text/x-python",
   "name": "python",
   "nbconvert_exporter": "python",
   "pygments_lexer": "ipython3",
   "version": "3.10.0"
  },
  "orig_nbformat": 4
 },
 "nbformat": 4,
 "nbformat_minor": 2
}
